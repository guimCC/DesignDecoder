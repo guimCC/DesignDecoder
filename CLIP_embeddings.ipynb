{
 "cells": [
  {
   "cell_type": "code",
   "execution_count": 8,
   "metadata": {},
   "outputs": [],
   "source": [
    "from PIL import Image\n",
    "from transformers import CLIPProcessor, CLIPModel\n",
    "import pandas as pd\n",
    "import os\n",
    "import torch\n",
    "from tqdm import tqdm"
   ]
  },
  {
   "cell_type": "markdown",
   "metadata": {},
   "source": [
    "### Data Loading"
   ]
  },
  {
   "cell_type": "markdown",
   "metadata": {},
   "source": [
    "Define data paths"
   ]
  },
  {
   "cell_type": "code",
   "execution_count": null,
   "metadata": {},
   "outputs": [],
   "source": [
    "PATH = \"\" # Path to the source data\n",
    "IMAGES_PATH = f\"{PATH}/archive/images/images/\"\n",
    "CSV_PATH = f\"{PATH}/archive/\"\n",
    "HEIGHT = 224\n",
    "WIDTH = 160"
   ]
  },
  {
   "cell_type": "markdown",
   "metadata": {},
   "source": [
    "Load **Fashion CLIP** from the **HuggingFACE API**"
   ]
  },
  {
   "cell_type": "code",
   "execution_count": null,
   "metadata": {},
   "outputs": [],
   "source": [
    "model = CLIPModel.from_pretrained(\"patrickjohncyh/fashion-clip\").to(\"cuda\")\n",
    "processor = CLIPProcessor.from_pretrained(\"patrickjohncyh/fashion-clip\")"
   ]
  },
  {
   "cell_type": "markdown",
   "metadata": {},
   "source": [
    "Load .csv and filter for efficient embedding computation"
   ]
  },
  {
   "cell_type": "code",
   "execution_count": 11,
   "metadata": {},
   "outputs": [],
   "source": [
    "product_df = pd.read_csv(f\"{CSV_PATH}product_data.csv\")\n",
    "test_df = pd.read_csv(f\"{CSV_PATH}test_data.csv\")\n",
    "test_df = test_df.drop_duplicates(subset='cod_modelo_color')"
   ]
  },
  {
   "cell_type": "markdown",
   "metadata": {},
   "source": [
    "Helper function for image loading"
   ]
  },
  {
   "cell_type": "code",
   "execution_count": 13,
   "metadata": {},
   "outputs": [],
   "source": [
    "def load_imagePath_2_PIL(img_path):\n",
    "    return Image.open(f\"{IMAGES_PATH}/{img_path}\")"
   ]
  },
  {
   "cell_type": "markdown",
   "metadata": {},
   "source": [
    "### Embedding computation"
   ]
  },
  {
   "cell_type": "markdown",
   "metadata": {},
   "source": [
    "Define the output file for the **train** dataset"
   ]
  },
  {
   "cell_type": "code",
   "execution_count": null,
   "metadata": {},
   "outputs": [],
   "source": [
    "embeddings_file = \"image_embeddings.pt\""
   ]
  },
  {
   "cell_type": "markdown",
   "metadata": {},
   "source": [
    "Compute embeddings and store them as a dict (*img_path*: *img_embedding*)"
   ]
  },
  {
   "cell_type": "code",
   "execution_count": null,
   "metadata": {},
   "outputs": [],
   "source": [
    "embeddings = {}\n",
    "with torch.no_grad():  # Disable gradient calculation for inference\n",
    "    for img_name in tqdm(product_df['des_filename']):\n",
    "        img_path = f\"{IMAGES_PATH}/{img_name}\"\n",
    "        try:\n",
    "            image = Image.open(img_path)\n",
    "        except:\n",
    "            print(f\"Error opening image {img_path}\")\n",
    "\n",
    "        # Preprocess the image with the FASHION-CLIP processor\n",
    "        inputs = processor(images=image, return_tensors=\"pt\", padding=True).to(\"cuda\")\n",
    "        \n",
    "        # Get image embeddings\n",
    "        image_features = model.get_image_features(**inputs)\n",
    "        image_features = image_features.squeeze().cpu()\n",
    "\n",
    "        # Store embeddings in a dictionary\n",
    "        embeddings[img_name] = image_features\n",
    "\n",
    "# Save embeddings to a file\n",
    "torch.save(embeddings, embeddings_file)\n",
    "print(f\"Embeddings saved to {embeddings_file}\")"
   ]
  },
  {
   "cell_type": "markdown",
   "metadata": {},
   "source": [
    "Make sure that the embeddings are correctly stored and loaded"
   ]
  },
  {
   "cell_type": "code",
   "execution_count": null,
   "metadata": {},
   "outputs": [],
   "source": [
    "embeddings_file = \"image_embeddings.pt\"\n",
    "embeddings = torch.load(embeddings_file)"
   ]
  },
  {
   "cell_type": "markdown",
   "metadata": {},
   "source": [
    "Repeat the process for the **test** dataset"
   ]
  },
  {
   "cell_type": "code",
   "execution_count": null,
   "metadata": {},
   "outputs": [],
   "source": [
    "embeddings_file = \"image_embeddings_test.pt\"\n",
    "\n",
    "embeddings_test = {}\n",
    "with torch.no_grad():  # Disable gradient calculation for inference\n",
    "    for img_name in tqdm(test_df['des_filename']):\n",
    "        img_path = f\"{IMAGES_PATH}/{img_name}\"\n",
    "        try:\n",
    "            image = Image.open(img_path)\n",
    "        except:\n",
    "            print(f\"Error opening image {img_path}\")\n",
    "\n",
    "        # Preprocess the image\n",
    "        inputs = processor(images=image, return_tensors=\"pt\", padding=True).to(\"cuda\")\n",
    "        \n",
    "        # Get image embeddings\n",
    "        image_features = model.get_image_features(**inputs)\n",
    "        image_features = image_features.squeeze().cpu()  # Convert to a 1D tensor and move to CPU\n",
    "\n",
    "        # Store embeddings in a dictionary\n",
    "        embeddings_test[img_name] = image_features\n",
    "\n",
    "torch.save(embeddings_test, embeddings_file)\n",
    "print(f\"Embeddings saved to {embeddings_file}\")"
   ]
  }
 ],
 "metadata": {
  "kernelspec": {
   "display_name": "hugginface",
   "language": "python",
   "name": "python3"
  },
  "language_info": {
   "codemirror_mode": {
    "name": "ipython",
    "version": 3
   },
   "file_extension": ".py",
   "mimetype": "text/x-python",
   "name": "python",
   "nbconvert_exporter": "python",
   "pygments_lexer": "ipython3",
   "version": "3.10.14"
  }
 },
 "nbformat": 4,
 "nbformat_minor": 2
}
